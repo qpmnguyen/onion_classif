{
 "cells": [
  {
   "cell_type": "code",
   "execution_count": 212,
   "metadata": {},
   "outputs": [],
   "source": [
    "import torch\n",
    "from torchtext.data import Field, TabularDataset, BucketIterator\n",
    "from torchtext.vocab import GloVe\n",
    "import requests\n",
    "import string\n",
    "import json\n",
    "import datetime as dt\n",
    "import pandas as pd\n",
    "import numpy as np\n",
    "import spacy\n",
    "import re"
   ]
  },
  {
   "cell_type": "code",
   "execution_count": 213,
   "metadata": {},
   "outputs": [],
   "source": [
    "spacy_en = spacy.load('en')\n",
    "def tokenizer(txt):\n",
    "    \"\"\"Simple tokenizer\n",
    "    txt: Text to tokenize, as String\n",
    "\n",
    "    First, remove all quotations, stars, +, minuses, etc. \n",
    "    Then, substitute certain punctuations with the correct one\n",
    "    Finally, tokenize using spacy_en\n",
    "    \"\"\"\n",
    "    txt = re.sub(\n",
    "        r\"[\\*\\\"“”\\n\\\\…\\+\\-\\/\\=\\(\\)‘•:\\[\\]\\|’\\!;]\", \" \", \n",
    "        str(txt))\n",
    "    txt = re.sub(r\"[ ]+\", \" \", txt)\n",
    "    txt = re.sub(r\"\\!+\", \"!\", txt)\n",
    "    txt = re.sub(r\"\\,+\", \",\", txt)\n",
    "    txt = re.sub(r\"\\?+\", \"?\", txt)\n",
    "    return([tok.text for tok in spacy_en.tokenizer(txt)])\n",
    "\n",
    "text = Field(sequential=True, use_vocab=True, tokenize = tokenizer)\n",
    "label = Field(sequential=False, use_vocab=False)\n",
    "\n",
    "fields = {\n",
    "    (\"label\", label),\n",
    "    (\"text\", text),\n",
    "}\n",
    "\n",
    "train, test = TabularDataset.splits(path = \"data/\", train = \"train.tsv\", test = \"test.tsv\", format = \"tsv\", fields = fields)"
   ]
  },
  {
   "cell_type": "code",
   "execution_count": 214,
   "metadata": {},
   "outputs": [],
   "source": [
    "text.build_vocab(train, min_freq = 2, vectors = GloVe(\"6B\", \"100\"))\n",
    "label.build_vocab(train, min_freq = 2, vectors = GloVe(\"6B\", \"100\"))"
   ]
  },
  {
   "cell_type": "code",
   "execution_count": 215,
   "metadata": {},
   "outputs": [],
   "source": [
    "train_iter, test_iter = BucketIterator.splits( (train,test), batch_size = 3, sort_key = lambda x: data.interleave_keys(len(x.string), len(x.label)))"
   ]
  },
  {
   "cell_type": "code",
   "execution_count": 216,
   "metadata": {},
   "outputs": [],
   "source": [
    "vocab = text.vocab"
   ]
  },
  {
   "cell_type": "code",
   "execution_count": 217,
   "metadata": {},
   "outputs": [
    {
     "output_type": "execute_result",
     "data": {
      "text/plain": [
       "dict_values([['Movie', 'Theater', 'Security', 'Reports', 'Suspicious', 'Behavior', 'After', 'Patron', 'Buys', 'Ticket', 'To', 'Gemini', 'Man'], '1'])"
      ]
     },
     "metadata": {},
     "execution_count": 217
    }
   ],
   "source": [
    "train[7].__dict__.values()"
   ]
  },
  {
   "cell_type": "code",
   "execution_count": 218,
   "metadata": {},
   "outputs": [
    {
     "output_type": "execute_result",
     "data": {
      "text/plain": [
       "torch.Size([2861, 100])"
      ]
     },
     "metadata": {},
     "execution_count": 218
    }
   ],
   "source": [
    "vocab.vectors.shape"
   ]
  },
  {
   "cell_type": "code",
   "execution_count": null,
   "metadata": {},
   "outputs": [],
   "source": []
  }
 ],
 "metadata": {
  "kernelspec": {
   "display_name": "Python 3",
   "language": "python",
   "name": "python3"
  },
  "language_info": {
   "codemirror_mode": {
    "name": "ipython",
    "version": 3
   },
   "file_extension": ".py",
   "mimetype": "text/x-python",
   "name": "python",
   "nbconvert_exporter": "python",
   "pygments_lexer": "ipython3",
   "version": "3.9.0-final"
  }
 },
 "nbformat": 4,
 "nbformat_minor": 4
}